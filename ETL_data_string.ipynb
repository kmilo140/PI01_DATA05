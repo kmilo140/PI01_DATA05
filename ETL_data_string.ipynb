{
 "cells": [
  {
   "attachments": {},
   "cell_type": "markdown",
   "metadata": {
    "slideshow": {
     "slide_type": "slide"
    }
   },
   "source": [
    "EDA"
   ]
  },
  {
   "attachments": {},
   "cell_type": "markdown",
   "metadata": {
    "slideshow": {
     "slide_type": "notes"
    }
   },
   "source": [
    "We will start with the ETL stage. Unlike the EDA, where only an exploration of the data was performed, here in the ETL, is where the relevant changes are made, so that at the end you have a reliable database, columns that are not appropriate for the type of query to be performed in the api will be eliminated. This in order to consolidate data that is easy to understand. \n",
    "\n",
    "We loaded all the necessary notebooks for the ETL process."
   ]
  },
  {
   "cell_type": "code",
   "execution_count": 3,
   "metadata": {},
   "outputs": [],
   "source": [
    "import pandas as pd\n",
    "import numpy as np\n"
   ]
  },
  {
   "attachments": {},
   "cell_type": "markdown",
   "metadata": {},
   "source": [
    "The file data_string.csv is loaded into a dataframe named data."
   ]
  },
  {
   "cell_type": "code",
   "execution_count": 4,
   "metadata": {},
   "outputs": [],
   "source": [
    "df_amazon = pd.read_csv('Datasets/amazon_prime_titles.csv')\n",
    "df_hulu = pd.read_csv('Datasets/hulu_titles.csv')\n",
    "df_disney = pd.read_csv('Datasets/disney_plus_titles.csv')\n",
    "df_netflix = pd.read_json('./Datasets/netflix_titles.json')"
   ]
  },
  {
   "attachments": {},
   "cell_type": "markdown",
   "metadata": {
    "slideshow": {
     "slide_type": "notes"
    }
   },
   "source": [
    "A column is created to identify the streaming service."
   ]
  },
  {
   "cell_type": "code",
   "execution_count": 5,
   "metadata": {},
   "outputs": [],
   "source": [
    "df_amazon = df_amazon.assign(Platform =\"amazon\")\n",
    "df_disney = df_disney.assign(Platform =\"disney\")\n",
    "df_hulu = df_hulu.assign(Platform =\"hulu\")\n",
    "df_netflix = df_netflix.assign(Platform =\"netflix\")"
   ]
  },
  {
   "attachments": {},
   "cell_type": "markdown",
   "metadata": {
    "slideshow": {
     "slide_type": "notes"
    }
   },
   "source": [
    "All dataframes are merged into one, for better management."
   ]
  },
  {
   "cell_type": "code",
   "execution_count": 6,
   "metadata": {},
   "outputs": [],
   "source": [
    "data_string = pd.concat([df_amazon, df_disney, df_hulu, df_netflix], axis=0)"
   ]
  },
  {
   "attachments": {},
   "cell_type": "markdown",
   "metadata": {
    "slideshow": {
     "slide_type": "notes"
    }
   },
   "source": [
    "Rename columns. "
   ]
  },
  {
   "cell_type": "code",
   "execution_count": 7,
   "metadata": {},
   "outputs": [],
   "source": [
    "cambios={'type': 'Category', \n",
    "         'title': 'Title',\n",
    "         'director': 'Director',\n",
    "         'cast': 'Cast',\n",
    "         'country': 'Country',\n",
    "         'date_added': 'Date_added',\n",
    "         'release_year': 'Release_year',\n",
    "         'rating': 'Rating',\n",
    "         'duration': 'Duration',\n",
    "         'listed_in': 'Genre',\n",
    "         'description': 'Synopsis'\n",
    "         }\n",
    "\n",
    "\n",
    "data_string.rename(columns = cambios, inplace=True)"
   ]
  },
  {
   "attachments": {},
   "cell_type": "markdown",
   "metadata": {
    "slideshow": {
     "slide_type": "notes"
    }
   },
   "source": [
    "Type (change name to \"category\" so it doesn't clash with mysql)."
   ]
  },
  {
   "attachments": {},
   "cell_type": "markdown",
   "metadata": {
    "slideshow": {
     "slide_type": "notes"
    }
   },
   "source": [
    "Date format of the Date_added column."
   ]
  },
  {
   "cell_type": "code",
   "execution_count": 8,
   "metadata": {},
   "outputs": [],
   "source": [
    "data_string[\"Date_added\"]=data_string[\"Date_added\"].str.replace(\",\", \"\").str.strip() ## quitar espacios delante y detrás\n",
    "data_string[\"Date_added\"]=pd.to_datetime(data_string[\"Date_added\"], format=\"%B %d %Y\")"
   ]
  },
  {
   "attachments": {},
   "cell_type": "markdown",
   "metadata": {
    "slideshow": {
     "slide_type": "notes"
    }
   },
   "source": [
    "It was found that some data belonging to the \"duration\" column are located in the \"ranting\" column.\n",
    "We proceeded to change their location so as not to lose them."
   ]
  },
  {
   "cell_type": "code",
   "execution_count": 9,
   "metadata": {},
   "outputs": [],
   "source": [
    "data_string['Duration'] = data_string.apply(lambda row: row['Rating'] if ((pd.isnull(row['Duration'])) & ((\"min\" in str(row['Rating'])) or (\"Season\" in str(row['Rating'])))) else row['Duration'], axis=1)\n",
    "\n",
    "\n"
   ]
  },
  {
   "attachments": {},
   "cell_type": "markdown",
   "metadata": {
    "slideshow": {
     "slide_type": "notes"
    }
   },
   "source": [
    "Another alternative..."
   ]
  },
  {
   "cell_type": "code",
   "execution_count": 10,
   "metadata": {},
   "outputs": [],
   "source": [
    "#data_string.loc[data_string.Rating.str.contains('min'),'Duration (Min)'] = data_string.loc[data_string.Rating.str.contains('min'),'Rating']\n",
    "#data_string.loc[data_string.Rating.str.contains('min'), 'Rating'] = \"No_information\""
   ]
  },
  {
   "cell_type": "code",
   "execution_count": 11,
   "metadata": {},
   "outputs": [
    {
     "name": "stdout",
     "output_type": "stream",
     "text": [
      "<class 'pandas.core.frame.DataFrame'>\n",
      "Int64Index: 22998 entries, 0 to 8806\n",
      "Data columns (total 13 columns):\n",
      " #   Column        Non-Null Count  Dtype         \n",
      "---  ------        --------------  -----         \n",
      " 0   show_id       22998 non-null  object        \n",
      " 1   Category      22998 non-null  object        \n",
      " 2   Title         22998 non-null  object        \n",
      " 3   Director      14739 non-null  object        \n",
      " 4   Cast          17677 non-null  object        \n",
      " 5   Country       11499 non-null  object        \n",
      " 6   Date_added    13444 non-null  datetime64[ns]\n",
      " 7   Release_year  22998 non-null  int64         \n",
      " 8   Rating        22134 non-null  object        \n",
      " 9   Duration      22811 non-null  object        \n",
      " 10  Genre         22998 non-null  object        \n",
      " 11  Synopsis      22994 non-null  object        \n",
      " 12  Platform      22998 non-null  object        \n",
      "dtypes: datetime64[ns](1), int64(1), object(11)\n",
      "memory usage: 2.5+ MB\n"
     ]
    }
   ],
   "source": [
    "data_string.info()"
   ]
  },
  {
   "attachments": {},
   "cell_type": "markdown",
   "metadata": {
    "slideshow": {
     "slide_type": "notes"
    }
   },
   "source": [
    "We control the percentage of nulls in our columns."
   ]
  },
  {
   "cell_type": "code",
   "execution_count": 12,
   "metadata": {},
   "outputs": [
    {
     "data": {
      "text/plain": [
       "show_id          0.00\n",
       "Category         0.00\n",
       "Title            0.00\n",
       "Director        35.91\n",
       "Cast            23.14\n",
       "Country         50.00\n",
       "Date_added      41.54\n",
       "Release_year     0.00\n",
       "Rating           3.76\n",
       "Duration         0.81\n",
       "Genre            0.00\n",
       "Synopsis         0.02\n",
       "Platform         0.00\n",
       "dtype: float64"
      ]
     },
     "execution_count": 12,
     "metadata": {},
     "output_type": "execute_result"
    }
   ],
   "source": [
    "round(data_string.isna().mean()*100,2)"
   ]
  },
  {
   "cell_type": "code",
   "execution_count": 13,
   "metadata": {},
   "outputs": [
    {
     "data": {
      "text/html": [
       "<div>\n",
       "<style scoped>\n",
       "    .dataframe tbody tr th:only-of-type {\n",
       "        vertical-align: middle;\n",
       "    }\n",
       "\n",
       "    .dataframe tbody tr th {\n",
       "        vertical-align: top;\n",
       "    }\n",
       "\n",
       "    .dataframe thead th {\n",
       "        text-align: right;\n",
       "    }\n",
       "</style>\n",
       "<table border=\"1\" class=\"dataframe\">\n",
       "  <thead>\n",
       "    <tr style=\"text-align: right;\">\n",
       "      <th></th>\n",
       "      <th>show_id</th>\n",
       "      <th>Category</th>\n",
       "      <th>Title</th>\n",
       "      <th>Director</th>\n",
       "      <th>Cast</th>\n",
       "      <th>Country</th>\n",
       "      <th>Date_added</th>\n",
       "      <th>Release_year</th>\n",
       "      <th>Rating</th>\n",
       "      <th>Duration</th>\n",
       "      <th>Genre</th>\n",
       "      <th>Synopsis</th>\n",
       "      <th>Platform</th>\n",
       "    </tr>\n",
       "  </thead>\n",
       "  <tbody>\n",
       "    <tr>\n",
       "      <th>0</th>\n",
       "      <td>s1</td>\n",
       "      <td>Movie</td>\n",
       "      <td>The Grand Seduction</td>\n",
       "      <td>Don McKellar</td>\n",
       "      <td>Brendan Gleeson, Taylor Kitsch, Gordon Pinsent</td>\n",
       "      <td>Canada</td>\n",
       "      <td>2021-03-30</td>\n",
       "      <td>2014</td>\n",
       "      <td>NaN</td>\n",
       "      <td>113 min</td>\n",
       "      <td>Comedy, Drama</td>\n",
       "      <td>A small fishing village must procure a local d...</td>\n",
       "      <td>amazon</td>\n",
       "    </tr>\n",
       "    <tr>\n",
       "      <th>1</th>\n",
       "      <td>s2</td>\n",
       "      <td>Movie</td>\n",
       "      <td>Take Care Good Night</td>\n",
       "      <td>Girish Joshi</td>\n",
       "      <td>Mahesh Manjrekar, Abhay Mahajan, Sachin Khedekar</td>\n",
       "      <td>India</td>\n",
       "      <td>2021-03-30</td>\n",
       "      <td>2018</td>\n",
       "      <td>13+</td>\n",
       "      <td>110 min</td>\n",
       "      <td>Drama, International</td>\n",
       "      <td>A Metro Family decides to fight a Cyber Crimin...</td>\n",
       "      <td>amazon</td>\n",
       "    </tr>\n",
       "    <tr>\n",
       "      <th>2</th>\n",
       "      <td>s3</td>\n",
       "      <td>Movie</td>\n",
       "      <td>Secrets of Deception</td>\n",
       "      <td>Josh Webber</td>\n",
       "      <td>Tom Sizemore, Lorenzo Lamas, Robert LaSardo, R...</td>\n",
       "      <td>United States</td>\n",
       "      <td>2021-03-30</td>\n",
       "      <td>2017</td>\n",
       "      <td>NaN</td>\n",
       "      <td>74 min</td>\n",
       "      <td>Action, Drama, Suspense</td>\n",
       "      <td>After a man discovers his wife is cheating on ...</td>\n",
       "      <td>amazon</td>\n",
       "    </tr>\n",
       "    <tr>\n",
       "      <th>3</th>\n",
       "      <td>s4</td>\n",
       "      <td>Movie</td>\n",
       "      <td>Pink: Staying True</td>\n",
       "      <td>Sonia Anderson</td>\n",
       "      <td>Interviews with: Pink, Adele, Beyoncé, Britney...</td>\n",
       "      <td>United States</td>\n",
       "      <td>2021-03-30</td>\n",
       "      <td>2014</td>\n",
       "      <td>NaN</td>\n",
       "      <td>69 min</td>\n",
       "      <td>Documentary</td>\n",
       "      <td>Pink breaks the mold once again, bringing her ...</td>\n",
       "      <td>amazon</td>\n",
       "    </tr>\n",
       "    <tr>\n",
       "      <th>4</th>\n",
       "      <td>s5</td>\n",
       "      <td>Movie</td>\n",
       "      <td>Monster Maker</td>\n",
       "      <td>Giles Foster</td>\n",
       "      <td>Harry Dean Stanton, Kieran O'Brien, George Cos...</td>\n",
       "      <td>United Kingdom</td>\n",
       "      <td>2021-03-30</td>\n",
       "      <td>1989</td>\n",
       "      <td>NaN</td>\n",
       "      <td>45 min</td>\n",
       "      <td>Drama, Fantasy</td>\n",
       "      <td>Teenage Matt Banting wants to work with a famo...</td>\n",
       "      <td>amazon</td>\n",
       "    </tr>\n",
       "  </tbody>\n",
       "</table>\n",
       "</div>"
      ],
      "text/plain": [
       "  show_id Category                 Title        Director  \\\n",
       "0      s1    Movie   The Grand Seduction    Don McKellar   \n",
       "1      s2    Movie  Take Care Good Night    Girish Joshi   \n",
       "2      s3    Movie  Secrets of Deception     Josh Webber   \n",
       "3      s4    Movie    Pink: Staying True  Sonia Anderson   \n",
       "4      s5    Movie         Monster Maker    Giles Foster   \n",
       "\n",
       "                                                Cast         Country  \\\n",
       "0     Brendan Gleeson, Taylor Kitsch, Gordon Pinsent          Canada   \n",
       "1   Mahesh Manjrekar, Abhay Mahajan, Sachin Khedekar           India   \n",
       "2  Tom Sizemore, Lorenzo Lamas, Robert LaSardo, R...   United States   \n",
       "3  Interviews with: Pink, Adele, Beyoncé, Britney...   United States   \n",
       "4  Harry Dean Stanton, Kieran O'Brien, George Cos...  United Kingdom   \n",
       "\n",
       "  Date_added  Release_year Rating Duration                    Genre  \\\n",
       "0 2021-03-30          2014    NaN  113 min            Comedy, Drama   \n",
       "1 2021-03-30          2018    13+  110 min     Drama, International   \n",
       "2 2021-03-30          2017    NaN   74 min  Action, Drama, Suspense   \n",
       "3 2021-03-30          2014    NaN   69 min              Documentary   \n",
       "4 2021-03-30          1989    NaN   45 min           Drama, Fantasy   \n",
       "\n",
       "                                            Synopsis Platform  \n",
       "0  A small fishing village must procure a local d...   amazon  \n",
       "1  A Metro Family decides to fight a Cyber Crimin...   amazon  \n",
       "2  After a man discovers his wife is cheating on ...   amazon  \n",
       "3  Pink breaks the mold once again, bringing her ...   amazon  \n",
       "4  Teenage Matt Banting wants to work with a famo...   amazon  "
      ]
     },
     "execution_count": 13,
     "metadata": {},
     "output_type": "execute_result"
    }
   ],
   "source": [
    "data_string.head()"
   ]
  },
  {
   "attachments": {},
   "cell_type": "markdown",
   "metadata": {},
   "source": [
    "\n",
    "As you can see the \"duration\" nulls decreased from 482 to 187, which is a 61.2% decrease in the number of nulls.\n",
    "\n",
    "Next we will analyze query by query to see which columns are necessary to build our database. \n",
    "\n",
    "* Maximum duration by type of film (movie/series), by platform and by year: The request should be: get_max_duration(year, platform, [min or season]).\n",
    "\n",
    "    * Title.\n",
    "    * Category.\n",
    "    * Platform.    \n",
    "    * Release_year.\n",
    "    * Duration (separate the series data with the min of the movies).\n",
    "\n",
    "\n",
    "* Number of movies and series (separated) per platform The request should be: get_count_plataform(platform).\n",
    "\n",
    "    * Category.\n",
    "    * Platform. \n",
    "\n",
    "\n",
    "* Number of times a genre and platform is repeated with the highest frequency of the genre. The request should be: get_listedin('genre').\n",
    "\n",
    "    * Title.\n",
    "    * Genre.\n",
    "    * Platform.  \n",
    "\n",
    "\n",
    "\n",
    "As an example of genre you can use 'comedy', which should return a cunt of 2099 for the amazon platform.\n",
    "\n",
    "\n",
    "* Repeating actor according to platform and year. The request should be: get_actor(platform, year).\n",
    "\n",
    "    * Cast\n",
    "    * Platform \n",
    "    * Release_year  \n",
    "\n",
    "\n",
    "The columns that we see are not useful in the queries to be made, or that have much missing data, will be eliminated.  "
   ]
  },
  {
   "cell_type": "code",
   "execution_count": 14,
   "metadata": {},
   "outputs": [],
   "source": [
    "data_string = data_string.drop([\"show_id\",\"Director\",\"Country\",\"Date_added\",\"Rating\"],axis=1)"
   ]
  },
  {
   "cell_type": "code",
   "execution_count": 15,
   "metadata": {},
   "outputs": [
    {
     "name": "stdout",
     "output_type": "stream",
     "text": [
      "<class 'pandas.core.frame.DataFrame'>\n",
      "Int64Index: 22998 entries, 0 to 8806\n",
      "Data columns (total 8 columns):\n",
      " #   Column        Non-Null Count  Dtype \n",
      "---  ------        --------------  ----- \n",
      " 0   Category      22998 non-null  object\n",
      " 1   Title         22998 non-null  object\n",
      " 2   Cast          17677 non-null  object\n",
      " 3   Release_year  22998 non-null  int64 \n",
      " 4   Duration      22811 non-null  object\n",
      " 5   Genre         22998 non-null  object\n",
      " 6   Synopsis      22994 non-null  object\n",
      " 7   Platform      22998 non-null  object\n",
      "dtypes: int64(1), object(7)\n",
      "memory usage: 1.6+ MB\n"
     ]
    }
   ],
   "source": [
    "data_string.info()"
   ]
  },
  {
   "attachments": {},
   "cell_type": "markdown",
   "metadata": {
    "slideshow": {
     "slide_type": "notes"
    }
   },
   "source": [
    "The original indexes are deleted."
   ]
  },
  {
   "cell_type": "code",
   "execution_count": 16,
   "metadata": {},
   "outputs": [],
   "source": [
    "data_string = data_string.reset_index(drop=True)"
   ]
  },
  {
   "attachments": {},
   "cell_type": "markdown",
   "metadata": {
    "slideshow": {
     "slide_type": "notes"
    }
   },
   "source": [
    "There are two main categories in this Datasets, movies and TV series. The movies have as time minutes and the series have seasons. This must be separated depending on the category. \n",
    "\n",
    "For this, each word will be separated from the Duration column, where each one will be stored word by word in a column of a new dataframe. "
   ]
  },
  {
   "cell_type": "code",
   "execution_count": 17,
   "metadata": {},
   "outputs": [],
   "source": [
    "separate = data_string.Duration.str.split(\" \", n=1, expand=True)\n"
   ]
  },
  {
   "attachments": {},
   "cell_type": "markdown",
   "metadata": {
    "slideshow": {
     "slide_type": "notes"
    }
   },
   "source": [
    "The information of the duration column has been extracted and separated. We will proceed to create two new columns in data_string. We will proceed to enter the information. "
   ]
  },
  {
   "cell_type": "code",
   "execution_count": 18,
   "metadata": {},
   "outputs": [],
   "source": [
    "data_string[\"Duration\"] = separate[0]\n",
    "data_string[\"Type_duration\"] = separate[1]"
   ]
  },
  {
   "cell_type": "code",
   "execution_count": 19,
   "metadata": {},
   "outputs": [
    {
     "data": {
      "text/plain": [
       "Category            0\n",
       "Title               0\n",
       "Cast             5321\n",
       "Release_year        0\n",
       "Duration          187\n",
       "Genre               0\n",
       "Synopsis            4\n",
       "Platform            0\n",
       "Type_duration     187\n",
       "dtype: int64"
      ]
     },
     "execution_count": 19,
     "metadata": {},
     "output_type": "execute_result"
    }
   ],
   "source": [
    "data_string.isnull().sum()"
   ]
  },
  {
   "attachments": {},
   "cell_type": "markdown",
   "metadata": {
    "slideshow": {
     "slide_type": "notes"
    }
   },
   "source": [
    "At this point all the columns are needed, but we can see that there are still null values, so they will be replaced by no data."
   ]
  },
  {
   "cell_type": "code",
   "execution_count": 20,
   "metadata": {},
   "outputs": [],
   "source": [
    "data_string = data_string.fillna(\"undetermined\")"
   ]
  },
  {
   "attachments": {},
   "cell_type": "markdown",
   "metadata": {},
   "source": [
    "Check for duplicate rows. Not found. "
   ]
  },
  {
   "cell_type": "code",
   "execution_count": 21,
   "metadata": {},
   "outputs": [
    {
     "name": "stdout",
     "output_type": "stream",
     "text": [
      "Category         0\n",
      "Title            0\n",
      "Cast             0\n",
      "Release_year     0\n",
      "Duration         0\n",
      "Genre            0\n",
      "Synopsis         0\n",
      "Platform         0\n",
      "Type_duration    0\n",
      "dtype: int64\n"
     ]
    }
   ],
   "source": [
    "duplicate = data_string[data_string.duplicated()==True].count()\n",
    "print(duplicate)"
   ]
  },
  {
   "attachments": {},
   "cell_type": "markdown",
   "metadata": {
    "slideshow": {
     "slide_type": "notes"
    }
   },
   "source": [
    "With the following statement we pass it to float and all the \"no data\" will be passed to NaN."
   ]
  },
  {
   "cell_type": "code",
   "execution_count": 22,
   "metadata": {},
   "outputs": [],
   "source": [
    "data_string[\"Duration\"] = pd.to_numeric(data_string[\"Duration\"], errors=\"coerce\")"
   ]
  },
  {
   "attachments": {},
   "cell_type": "markdown",
   "metadata": {
    "slideshow": {
     "slide_type": "notes"
    }
   },
   "source": [
    "We replace the nulls by 0. This in order to be effective when performing our searches."
   ]
  },
  {
   "cell_type": "code",
   "execution_count": 23,
   "metadata": {},
   "outputs": [],
   "source": [
    "data_string[\"Duration\"] = data_string[\"Duration\"].fillna(0)"
   ]
  },
  {
   "attachments": {},
   "cell_type": "markdown",
   "metadata": {
    "slideshow": {
     "slide_type": "notes"
    }
   },
   "source": [
    "We change the format from float to int."
   ]
  },
  {
   "cell_type": "code",
   "execution_count": 24,
   "metadata": {},
   "outputs": [],
   "source": [
    "data_string[\"Duration\"]=data_string[\"Duration\"].astype(int)"
   ]
  },
  {
   "attachments": {},
   "cell_type": "markdown",
   "metadata": {
    "slideshow": {
     "slide_type": "notes"
    }
   },
   "source": [
    "A new column is created in the dataframe and named \"Id_Stream\". This will contain a unique identifier for each movie. "
   ]
  },
  {
   "cell_type": "code",
   "execution_count": 25,
   "metadata": {},
   "outputs": [],
   "source": [
    "data_string[\"Id_Stream\"] = data_string.index"
   ]
  },
  {
   "attachments": {},
   "cell_type": "markdown",
   "metadata": {
    "slideshow": {
     "slide_type": "notes"
    }
   },
   "source": [
    "We arrange the columns in a more convenient way."
   ]
  },
  {
   "cell_type": "code",
   "execution_count": 26,
   "metadata": {},
   "outputs": [],
   "source": [
    "data_string = data_string[['Id_Stream','Title','Category','Duration','Type_duration',\n",
    "                           'Release_year','Genre', 'Cast', 'Synopsis', 'Platform']\n",
    "                            ]"
   ]
  },
  {
   "attachments": {},
   "cell_type": "markdown",
   "metadata": {},
   "source": [
    "We remove the blanks in the following columns."
   ]
  },
  {
   "cell_type": "code",
   "execution_count": 27,
   "metadata": {},
   "outputs": [],
   "source": [
    "data_string[\"Category\"] = data_string[\"Category\"].str.strip()\n",
    "data_string[\"Title\"] = data_string[\"Title\"].str.strip()\n",
    "data_string[\"Type_duration\"] = data_string[\"Type_duration\"].str.strip()"
   ]
  },
  {
   "cell_type": "code",
   "execution_count": 28,
   "metadata": {},
   "outputs": [
    {
     "data": {
      "text/html": [
       "<div>\n",
       "<style scoped>\n",
       "    .dataframe tbody tr th:only-of-type {\n",
       "        vertical-align: middle;\n",
       "    }\n",
       "\n",
       "    .dataframe tbody tr th {\n",
       "        vertical-align: top;\n",
       "    }\n",
       "\n",
       "    .dataframe thead th {\n",
       "        text-align: right;\n",
       "    }\n",
       "</style>\n",
       "<table border=\"1\" class=\"dataframe\">\n",
       "  <thead>\n",
       "    <tr style=\"text-align: right;\">\n",
       "      <th></th>\n",
       "      <th>Id_Stream</th>\n",
       "      <th>Title</th>\n",
       "      <th>Category</th>\n",
       "      <th>Duration</th>\n",
       "      <th>Type_duration</th>\n",
       "      <th>Release_year</th>\n",
       "      <th>Genre</th>\n",
       "      <th>Cast</th>\n",
       "      <th>Synopsis</th>\n",
       "      <th>Platform</th>\n",
       "    </tr>\n",
       "  </thead>\n",
       "  <tbody>\n",
       "    <tr>\n",
       "      <th>0</th>\n",
       "      <td>0</td>\n",
       "      <td>The Grand Seduction</td>\n",
       "      <td>Movie</td>\n",
       "      <td>113</td>\n",
       "      <td>min</td>\n",
       "      <td>2014</td>\n",
       "      <td>Comedy, Drama</td>\n",
       "      <td>Brendan Gleeson, Taylor Kitsch, Gordon Pinsent</td>\n",
       "      <td>A small fishing village must procure a local d...</td>\n",
       "      <td>amazon</td>\n",
       "    </tr>\n",
       "    <tr>\n",
       "      <th>1</th>\n",
       "      <td>1</td>\n",
       "      <td>Take Care Good Night</td>\n",
       "      <td>Movie</td>\n",
       "      <td>110</td>\n",
       "      <td>min</td>\n",
       "      <td>2018</td>\n",
       "      <td>Drama, International</td>\n",
       "      <td>Mahesh Manjrekar, Abhay Mahajan, Sachin Khedekar</td>\n",
       "      <td>A Metro Family decides to fight a Cyber Crimin...</td>\n",
       "      <td>amazon</td>\n",
       "    </tr>\n",
       "    <tr>\n",
       "      <th>2</th>\n",
       "      <td>2</td>\n",
       "      <td>Secrets of Deception</td>\n",
       "      <td>Movie</td>\n",
       "      <td>74</td>\n",
       "      <td>min</td>\n",
       "      <td>2017</td>\n",
       "      <td>Action, Drama, Suspense</td>\n",
       "      <td>Tom Sizemore, Lorenzo Lamas, Robert LaSardo, R...</td>\n",
       "      <td>After a man discovers his wife is cheating on ...</td>\n",
       "      <td>amazon</td>\n",
       "    </tr>\n",
       "    <tr>\n",
       "      <th>3</th>\n",
       "      <td>3</td>\n",
       "      <td>Pink: Staying True</td>\n",
       "      <td>Movie</td>\n",
       "      <td>69</td>\n",
       "      <td>min</td>\n",
       "      <td>2014</td>\n",
       "      <td>Documentary</td>\n",
       "      <td>Interviews with: Pink, Adele, Beyoncé, Britney...</td>\n",
       "      <td>Pink breaks the mold once again, bringing her ...</td>\n",
       "      <td>amazon</td>\n",
       "    </tr>\n",
       "    <tr>\n",
       "      <th>4</th>\n",
       "      <td>4</td>\n",
       "      <td>Monster Maker</td>\n",
       "      <td>Movie</td>\n",
       "      <td>45</td>\n",
       "      <td>min</td>\n",
       "      <td>1989</td>\n",
       "      <td>Drama, Fantasy</td>\n",
       "      <td>Harry Dean Stanton, Kieran O'Brien, George Cos...</td>\n",
       "      <td>Teenage Matt Banting wants to work with a famo...</td>\n",
       "      <td>amazon</td>\n",
       "    </tr>\n",
       "    <tr>\n",
       "      <th>...</th>\n",
       "      <td>...</td>\n",
       "      <td>...</td>\n",
       "      <td>...</td>\n",
       "      <td>...</td>\n",
       "      <td>...</td>\n",
       "      <td>...</td>\n",
       "      <td>...</td>\n",
       "      <td>...</td>\n",
       "      <td>...</td>\n",
       "      <td>...</td>\n",
       "    </tr>\n",
       "    <tr>\n",
       "      <th>22993</th>\n",
       "      <td>22993</td>\n",
       "      <td>Zodiac</td>\n",
       "      <td>Movie</td>\n",
       "      <td>158</td>\n",
       "      <td>min</td>\n",
       "      <td>2007</td>\n",
       "      <td>Cult Movies, Dramas, Thrillers</td>\n",
       "      <td>Mark Ruffalo, Jake Gyllenhaal, Robert Downey J...</td>\n",
       "      <td>A political cartoonist, a crime reporter and a...</td>\n",
       "      <td>netflix</td>\n",
       "    </tr>\n",
       "    <tr>\n",
       "      <th>22994</th>\n",
       "      <td>22994</td>\n",
       "      <td>Zombie Dumb</td>\n",
       "      <td>TV Show</td>\n",
       "      <td>2</td>\n",
       "      <td>Seasons</td>\n",
       "      <td>2018</td>\n",
       "      <td>Kids' TV, Korean TV Shows, TV Comedies</td>\n",
       "      <td>undetermined</td>\n",
       "      <td>While living alone in a spooky town, a young g...</td>\n",
       "      <td>netflix</td>\n",
       "    </tr>\n",
       "    <tr>\n",
       "      <th>22995</th>\n",
       "      <td>22995</td>\n",
       "      <td>Zombieland</td>\n",
       "      <td>Movie</td>\n",
       "      <td>88</td>\n",
       "      <td>min</td>\n",
       "      <td>2009</td>\n",
       "      <td>Comedies, Horror Movies</td>\n",
       "      <td>Jesse Eisenberg, Woody Harrelson, Emma Stone, ...</td>\n",
       "      <td>Looking to survive in a world taken over by zo...</td>\n",
       "      <td>netflix</td>\n",
       "    </tr>\n",
       "    <tr>\n",
       "      <th>22996</th>\n",
       "      <td>22996</td>\n",
       "      <td>Zoom</td>\n",
       "      <td>Movie</td>\n",
       "      <td>88</td>\n",
       "      <td>min</td>\n",
       "      <td>2006</td>\n",
       "      <td>Children &amp; Family Movies, Comedies</td>\n",
       "      <td>Tim Allen, Courteney Cox, Chevy Chase, Kate Ma...</td>\n",
       "      <td>Dragged from civilian life, a former superhero...</td>\n",
       "      <td>netflix</td>\n",
       "    </tr>\n",
       "    <tr>\n",
       "      <th>22997</th>\n",
       "      <td>22997</td>\n",
       "      <td>Zubaan</td>\n",
       "      <td>Movie</td>\n",
       "      <td>111</td>\n",
       "      <td>min</td>\n",
       "      <td>2015</td>\n",
       "      <td>Dramas, International Movies, Music &amp; Musicals</td>\n",
       "      <td>Vicky Kaushal, Sarah-Jane Dias, Raaghav Chanan...</td>\n",
       "      <td>A scrappy but poor boy worms his way into a ty...</td>\n",
       "      <td>netflix</td>\n",
       "    </tr>\n",
       "  </tbody>\n",
       "</table>\n",
       "<p>22998 rows × 10 columns</p>\n",
       "</div>"
      ],
      "text/plain": [
       "       Id_Stream                 Title Category  Duration Type_duration  \\\n",
       "0              0   The Grand Seduction    Movie       113           min   \n",
       "1              1  Take Care Good Night    Movie       110           min   \n",
       "2              2  Secrets of Deception    Movie        74           min   \n",
       "3              3    Pink: Staying True    Movie        69           min   \n",
       "4              4         Monster Maker    Movie        45           min   \n",
       "...          ...                   ...      ...       ...           ...   \n",
       "22993      22993                Zodiac    Movie       158           min   \n",
       "22994      22994           Zombie Dumb  TV Show         2       Seasons   \n",
       "22995      22995            Zombieland    Movie        88           min   \n",
       "22996      22996                  Zoom    Movie        88           min   \n",
       "22997      22997                Zubaan    Movie       111           min   \n",
       "\n",
       "       Release_year                                           Genre  \\\n",
       "0              2014                                   Comedy, Drama   \n",
       "1              2018                            Drama, International   \n",
       "2              2017                         Action, Drama, Suspense   \n",
       "3              2014                                     Documentary   \n",
       "4              1989                                  Drama, Fantasy   \n",
       "...             ...                                             ...   \n",
       "22993          2007                  Cult Movies, Dramas, Thrillers   \n",
       "22994          2018          Kids' TV, Korean TV Shows, TV Comedies   \n",
       "22995          2009                         Comedies, Horror Movies   \n",
       "22996          2006              Children & Family Movies, Comedies   \n",
       "22997          2015  Dramas, International Movies, Music & Musicals   \n",
       "\n",
       "                                                    Cast  \\\n",
       "0         Brendan Gleeson, Taylor Kitsch, Gordon Pinsent   \n",
       "1       Mahesh Manjrekar, Abhay Mahajan, Sachin Khedekar   \n",
       "2      Tom Sizemore, Lorenzo Lamas, Robert LaSardo, R...   \n",
       "3      Interviews with: Pink, Adele, Beyoncé, Britney...   \n",
       "4      Harry Dean Stanton, Kieran O'Brien, George Cos...   \n",
       "...                                                  ...   \n",
       "22993  Mark Ruffalo, Jake Gyllenhaal, Robert Downey J...   \n",
       "22994                                       undetermined   \n",
       "22995  Jesse Eisenberg, Woody Harrelson, Emma Stone, ...   \n",
       "22996  Tim Allen, Courteney Cox, Chevy Chase, Kate Ma...   \n",
       "22997  Vicky Kaushal, Sarah-Jane Dias, Raaghav Chanan...   \n",
       "\n",
       "                                                Synopsis Platform  \n",
       "0      A small fishing village must procure a local d...   amazon  \n",
       "1      A Metro Family decides to fight a Cyber Crimin...   amazon  \n",
       "2      After a man discovers his wife is cheating on ...   amazon  \n",
       "3      Pink breaks the mold once again, bringing her ...   amazon  \n",
       "4      Teenage Matt Banting wants to work with a famo...   amazon  \n",
       "...                                                  ...      ...  \n",
       "22993  A political cartoonist, a crime reporter and a...  netflix  \n",
       "22994  While living alone in a spooky town, a young g...  netflix  \n",
       "22995  Looking to survive in a world taken over by zo...  netflix  \n",
       "22996  Dragged from civilian life, a former superhero...  netflix  \n",
       "22997  A scrappy but poor boy worms his way into a ty...  netflix  \n",
       "\n",
       "[22998 rows x 10 columns]"
      ]
     },
     "execution_count": 28,
     "metadata": {},
     "output_type": "execute_result"
    }
   ],
   "source": [
    "data_string"
   ]
  },
  {
   "attachments": {},
   "cell_type": "markdown",
   "metadata": {
    "slideshow": {
     "slide_type": "slide"
    }
   },
   "source": [
    "UPLOAD TO DATABASE"
   ]
  },
  {
   "attachments": {},
   "cell_type": "markdown",
   "metadata": {
    "slideshow": {
     "slide_type": "notes"
    }
   },
   "source": [
    "The next step is to extract the result of our ETL process, MYSQL will be used to store all the data."
   ]
  },
  {
   "cell_type": "code",
   "execution_count": 29,
   "metadata": {},
   "outputs": [],
   "source": [
    "data_string.to_csv(\"Datasets/data_string.csv\")"
   ]
  }
 ],
 "metadata": {
  "kernelspec": {
   "display_name": "PI05",
   "language": "python",
   "name": "python3"
  },
  "language_info": {
   "codemirror_mode": {
    "name": "ipython",
    "version": 3
   },
   "file_extension": ".py",
   "mimetype": "text/x-python",
   "name": "python",
   "nbconvert_exporter": "python",
   "pygments_lexer": "ipython3",
   "version": "3.9.15"
  },
  "orig_nbformat": 4,
  "vscode": {
   "interpreter": {
    "hash": "2dc08b9e749e046dbc202e7c81637cd7a62df7f853beced7cfaed6740559a19f"
   }
  }
 },
 "nbformat": 4,
 "nbformat_minor": 2
}
